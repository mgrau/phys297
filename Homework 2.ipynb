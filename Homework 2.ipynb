{
 "cells": [
  {
   "cell_type": "markdown",
   "id": "2d669fd8",
   "metadata": {},
   "source": [
    "# PHYS 297 - Homework 2\n",
    "You can use these buttons below to launch this Jupyter notebook in either binder or Colab. Play around with each service, they have their own advantages. Colab will startup faster, but you may have to install your own dependencies using the `!pip` command. You will also need to be signed in with a google account. Binder doesn't require any account to use, but it does take sometimes several minutes to startup.\n",
    "\n",
    "[![Open in Binder](https://mybinder.org/badge_logo.svg)](http://beta.mybinder.org/v2/gh/mgrau/phys297/spring2023?urlpath=%2Ftree/Homework%202.ipynb)\n",
    "\n",
    "[![Open In Colab](https://colab.research.google.com/assets/colab-badge.svg)](https://colab.research.google.com/github/mgrau/phys297/blob/spring2023/Homework%202.ipynb)\n",
    "\n",
    "You can also download and run this notebook on your own computer, provided you have a suitable Python installation."
   ]
  },
  {
   "cell_type": "markdown",
   "id": "2d8fdfb1",
   "metadata": {},
   "source": [
    "# Problem 1 - Lists for data\n",
    "Below is some data from an experiment stored as a Python list called `data`. I ran the experiment repeatedly, and measured the state of a qubit each time. Each time the qubit was in the |↑⟩ I recorded a `1`, and each time it was in the |↓⟩ I recorded a `0`. Please analyze this data:\n",
    "\n",
    "1. How many measurements did I take? (what is the length of the list)\n",
    "2. What fraction of the time did I measure |↑⟩? (how many of the measurements are `1`?).\n",
    "3. Later I took 10 additional measurements, `['1', 1, 1, 1, 10, 1, 0, 0, 1, 1]`. Modify the list `data` to add these new measurements to it.\n",
    "4. Oh no! It looks like the new measurements included an error! One of the entries for the number `1` was instead entered as a string `'1'`. Find the index of the element that is the string `'1'` and replace it with the number `1`. Also it looks like two of the elements got stuck together and added as the number `10`. Find the index of this element, delete it, and append two new elements, a `1` and a `0`."
   ]
  },
  {
   "cell_type": "code",
   "execution_count": 1,
   "id": "e5d7dd0f",
   "metadata": {
    "ExecuteTime": {
     "end_time": "2022-09-11T20:09:08.504472Z",
     "start_time": "2022-09-11T20:09:08.496835Z"
    }
   },
   "outputs": [],
   "source": [
    "data = [\n",
    "    0, 0, 0, 0, 1, 0, 0, 0, 0, 1,\n",
    "    0, 1, 1, 1, 1, 0, 1, 1, 1, 0,\n",
    "    0, 0, 0, 0, 0, 0, 0, 0, 0, 1,\n",
    "    0, 1, 0, 1, 0, 1, 0, 0, 0, 1,\n",
    "    0, 1, 1, 0, 1, 0, 1, 1, 0, 0,\n",
    "    0, 0, 0, 0, 0, 1, 1, 0, 0, 0,\n",
    "    0, 1, 0, 0, 0, 0, 1, 0, 0, 0,\n",
    "    0, 1, 0, 0, 0, 0, 0, 1, 0, 1,\n",
    "    0, 0, 1, 0, 1, 0, 0, 0, 0, 0,\n",
    "    0, 1, 1, 0, 0, 0, 0, 0, 0, 0,\n",
    "    0, 0, 0, 0, 1, 0, 0, 0, 0, 0,\n",
    "    0, 0, 0, 1, 1, 1, 0, 0, 0, 1,\n",
    "    0, 1, 0, 0, 0, 0, 0, 0, 0, 1,\n",
    "    0, 0, 0, 0, 0, 1, 0, 0, 1, 0,\n",
    "    0, 0, 0, 0, 0, 0, 0, 1, 1, 0\n",
    "]"
   ]
  },
  {
   "cell_type": "markdown",
   "id": "b75d8db5",
   "metadata": {},
   "source": [
    "# Problem 2 - Manipulating Dictionaries\n",
    "I have created a dictionary representing an atom that I like.\n",
    "1. Write some code to retrieve the name of the atom\n",
    "2. Barium has multiple different naturally occuring isotopes (different variants of the same atom with different number of neutrons). Change this atom to the isotope Ba-137 (change the mass to 137 amu).\n",
    "3. Barium has six naturally occuring isotopes. Create a new entry in the dictionary called 'isotopes' with the value `[132, 134, 135, 136, 137, 138]`.\n",
    "4. Each of these isotopes actually has a different natural abundance. Change the value of the 'isotopes' from a list of masses to a dictionary of the masses and their abundances. The abundances are in the table below. Represent the percentages as a float (so 38% would be `0.38`).\n",
    "5. Print all of the names of the attributes of the atom (print all of the `keys` of the dictionary).\n",
    "\n",
    "| Isotope | Mass | Abundance |\n",
    "| ------- | ---- | --------- |\n",
    "| 132Ba   | 132  | 0.10%     |\n",
    "| 134Ba\t  | 134  | 2.42%     |\n",
    "| 135Ba\t  | 135  | 6.59%     |\n",
    "| 136Ba\t  | 136  | 7.85%     |\n",
    "| 137Ba\t  | 137  | 11.23%    |\n",
    "| 138Ba   | 138\t | 71.70%    |"
   ]
  },
  {
   "cell_type": "code",
   "execution_count": 3,
   "id": "3c597264",
   "metadata": {
    "ExecuteTime": {
     "end_time": "2022-09-11T20:09:08.513399Z",
     "start_time": "2022-09-11T20:09:08.511114Z"
    }
   },
   "outputs": [],
   "source": [
    "atom = {'name': 'barium', 'atomic number': 56, 'mass': 138, 'ground state': '1S0'}"
   ]
  }
 ],
 "metadata": {
  "kernelspec": {
   "display_name": "Python 3 (ipykernel)",
   "language": "python",
   "name": "python3"
  },
  "language_info": {
   "codemirror_mode": {
    "name": "ipython",
    "version": 3
   },
   "file_extension": ".py",
   "mimetype": "text/x-python",
   "name": "python",
   "nbconvert_exporter": "python",
   "pygments_lexer": "ipython3",
   "version": "3.10.7"
  },
  "vscode": {
   "interpreter": {
    "hash": "e80af68df95a31e212cd009ac4ba18d1a695b62c5ba442f5a9e89f02be8b3cbc"
   }
  }
 },
 "nbformat": 4,
 "nbformat_minor": 5
}
