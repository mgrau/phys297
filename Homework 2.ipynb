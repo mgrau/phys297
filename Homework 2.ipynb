{
 "cells": [
  {
   "cell_type": "markdown",
   "id": "2d669fd8",
   "metadata": {},
   "source": [
    "# PHYS 297 - Homework 2\n",
    "You can use these buttons below to launch this Jupyter notebook in either binder or Colab. Play around with each service, they have their own advantages. Colab will startup faster, but you may have to install your own dependencies using the !pip command. You will also need to be signed in with a google account. Binder doesn't require any account to use, but it does take sometimes several minutes to startup.\n",
    "\n",
    "[![Open in Binder](https://mybinder.org/badge_logo.svg)](http://beta.mybinder.org/v2/gh/mgrau/phys297/main?urlpath=%2Ftree/Homework%202.ipynb)\n",
    "\n",
    "[![Open In Colab](https://colab.research.google.com/assets/colab-badge.svg)](https://colab.research.google.com/github/mgrau/phys297/blob/main/Homework%202.ipynb)\n",
    "\n",
    "You can also download and run this notebook on your own computer, provided you have a suitable Python installation."
   ]
  },
  {
   "cell_type": "markdown",
   "id": "2d8fdfb1",
   "metadata": {},
   "source": [
    "# Problem 1 - Lists for data\n",
    "Below is some data from an experiment stored as a Python list called `data`. I ran the experiment repeatedly, and measured the state of a qubit each time. Each time the qubit was in the |↑⟩ I recorded a `1`, and each time it was in the |↓⟩ I recorded a `0`. Please analyze this data:\n",
    "\n",
    "1. How many measurements did I take? (what is the length of the list)\n",
    "2. What fraction of the time did I measure |↑⟩? (how many of the measurements are `1`?).\n",
    "3. Later I took 10 additional measurements, `['1', 1, 1, 1, 10, 1, 0, 0, 1, 1]`. Modify the list `data` to add these new measurements to it.\n",
    "4. Oh no! It looks like the new measurements included an error! One of the entries for the number `1` was instead entered as a string `'1'`. Find the index of the element that is the string `'1'` and replace it with the number `1`. Also it looks like two of the elements got stuck together and added as the number `10`. Find the index of this element, delete it, and append two new elements, a `1` and a `0`."
   ]
  },
  {
   "cell_type": "code",
   "execution_count": 1,
   "id": "e5d7dd0f",
   "metadata": {
    "ExecuteTime": {
     "end_time": "2022-09-11T20:09:08.504472Z",
     "start_time": "2022-09-11T20:09:08.496835Z"
    }
   },
   "outputs": [],
   "source": [
    "data = [\n",
    "    0, 0, 0, 0, 1, 0, 0, 0, 0, 1,\n",
    "    0, 1, 1, 1, 1, 0, 1, 1, 1, 0,\n",
    "    0, 0, 0, 0, 0, 0, 0, 0, 0, 1,\n",
    "    0, 1, 0, 1, 0, 1, 0, 0, 0, 1,\n",
    "    0, 1, 1, 0, 1, 0, 1, 1, 0, 0,\n",
    "    0, 0, 0, 0, 0, 1, 1, 0, 0, 0,\n",
    "    0, 1, 0, 0, 0, 0, 1, 0, 0, 0,\n",
    "    0, 1, 0, 0, 0, 0, 0, 1, 0, 1,\n",
    "    0, 0, 1, 0, 1, 0, 0, 0, 0, 0,\n",
    "    0, 1, 1, 0, 0, 0, 0, 0, 0, 0,\n",
    "    0, 0, 0, 0, 1, 0, 0, 0, 0, 0,\n",
    "    0, 0, 0, 1, 1, 1, 0, 0, 0, 1,\n",
    "    0, 1, 0, 0, 0, 0, 0, 0, 0, 1,\n",
    "    0, 0, 0, 0, 0, 1, 0, 0, 1, 0,\n",
    "    0, 0, 0, 0, 0, 0, 0, 1, 1, 0\n",
    "]"
   ]
  },
  {
   "cell_type": "markdown",
   "id": "99e43a1b",
   "metadata": {
    "ExecuteTime": {
     "end_time": "2022-09-11T19:15:02.913396Z",
     "start_time": "2022-09-11T19:15:02.899984Z"
    }
   },
   "source": [
    "# Problem 2 - Lists for strings\n",
    "Strings and lists actually have much in common. They both comprise different elements in a particular order. You can convert between the two by using the `list()` or the `str()` command.\n",
    "\n",
    "1. Below I have given you a string `recipe` (it's a line from Finnegans Wake that Murray Gell-Mann named the subatomic particle 'the quark' after). Convert it to a list, and print it out (use `list(recipe)`). Save this as a new variable, called `recipe_list`.\n",
    "2. Reverse this list of letters.\n",
    "3. Remove all of the spaces from `recipe_list`.\n",
    "4. Is the letter 'm' in the list? Write a line of code to check this. What about the character '!'?\n",
    "5. What happens if you try to convert this list back to a string?"
   ]
  },
  {
   "cell_type": "code",
   "execution_count": 2,
   "id": "4b3eda45",
   "metadata": {
    "ExecuteTime": {
     "end_time": "2022-09-11T20:09:08.509271Z",
     "start_time": "2022-09-11T20:09:08.507244Z"
    }
   },
   "outputs": [],
   "source": [
    "recipe = \"Three quarts for Muster Mark!\""
   ]
  },
  {
   "cell_type": "markdown",
   "id": "b75d8db5",
   "metadata": {},
   "source": [
    "# Problem 3 - Manipulating Dictionaries\n",
    "I have created a dictionary representing an atom that I like.\n",
    "1. Write some code to retrieve the name of the atom\n",
    "2. Barium has multiple different naturally occuring isotopes (different variants of the same atom with different number of neutrons). Change this atom to the isotope Ba-137 (change the mass to 137 amu).\n",
    "3. Barium has six naturally occuring isotopes. Create a new entry in the dictionary called 'isotopes' with the value `[132, 134, 135, 136, 137, 138]`.\n",
    "4. Each of these isotopes actually has a different natural abundance. Change the value of the 'isotopes' from a list of masses to a dictionary of the masses and their abundances. The abundances are in the table below. Represent the percentages as a float (so 38% would be `0.38`).\n",
    "5. Print all of the names of the attributes of the atom (print all of the `keys` of the dictionary).\n",
    "\n",
    "| Isotope | Mass | Abundance |\n",
    "| ------- | ---- | --------- |\n",
    "| 132Ba   | 132  | 0.10%     |\n",
    "| 134Ba\t  | 134  | 2.42%     |\n",
    "| 135Ba\t  | 135  | 6.59%     |\n",
    "| 136Ba\t  | 136  | 7.85%     |\n",
    "| 137Ba\t  | 137  | 11.23%    |\n",
    "| 138Ba   | 138\t | 71.70%    |"
   ]
  },
  {
   "cell_type": "code",
   "execution_count": 3,
   "id": "3c597264",
   "metadata": {
    "ExecuteTime": {
     "end_time": "2022-09-11T20:09:08.513399Z",
     "start_time": "2022-09-11T20:09:08.511114Z"
    }
   },
   "outputs": [],
   "source": [
    "atom = {'name': 'barium', 'atomic number': 56, 'mass': 138, 'ground state': '1S0'}"
   ]
  },
  {
   "cell_type": "markdown",
   "id": "c725ea06",
   "metadata": {},
   "source": [
    "# Problem 4 - Dictionarys for data\n",
    "Consider the following data, represented as a table:\n",
    "\n",
    "| Run | Voltage | Current | Power | Time  |\n",
    "|-----|---------|---------|-------|-------|\n",
    "| 1   | 5.66    | 0.034   | 0     | 126.7 |\n",
    "| 2   | 5.45    | 0.030   | 0     | 126.6 |\n",
    "| 3   | 5.12    | 0.034   | 0     | 126.7 |\n",
    "| 4   | 5.22    | 0.033   | 0.01  | 126.8 |\n",
    "| 5   | 4.12    | 0.033   | 0     | 126.8 |\n",
    "| 6   | 5.14    | 0.032   | 0     | 126.5 |\n",
    "| 7   | 5.37    | 0.031   | 0.01  | 126.6 |\n",
    "| 8   | 5.61    | 0.032   | 0.02  | 126.7 |\n",
    "| 9   | 5.52    | 0.034   | 0.02  | 126.7 |\n",
    "| 10  | 5.51    | 0.035   | 0     | 126.9 |\n",
    "| 11  | 6.01    | 0.035   | 0     | 126.3 |\n",
    "| 12  | 5.88    | 0.037   | 0     | 126.4 |\n",
    "| 13  | 5.78    | 0.030   | 0.09  | 126.6 |\n",
    "\n",
    "Express this data two ways:\n",
    "1. A list of dictionaries (`[{'Run': 1, 'Voltage': 5.66, ...}, {'Run': 2, 'Voltage': 5.45, ...}, ...]`)\n",
    "2. a dictionary of lists (`{'Run': [1, 2, 3, ...], 'Voltage': ...}`)\n",
    "\n",
    "There are different advantages to each of these. Consider the following calculations:\n",
    "1. Calculate the average voltage of the 13 experiments (use the `sum()` command and the `len()` command).\n",
    "2. What is the Current of experiment Run 4?"
   ]
  }
 ],
 "metadata": {
  "kernelspec": {
   "display_name": "Python 3 (ipykernel)",
   "language": "python",
   "name": "python3"
  },
  "language_info": {
   "codemirror_mode": {
    "name": "ipython",
    "version": 3
   },
   "file_extension": ".py",
   "mimetype": "text/x-python",
   "name": "python",
   "nbconvert_exporter": "python",
   "pygments_lexer": "ipython3",
   "version": "3.9.13"
  }
 },
 "nbformat": 4,
 "nbformat_minor": 5
}
