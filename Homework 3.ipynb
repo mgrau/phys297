{
 "cells": [
  {
   "cell_type": "markdown",
   "id": "2d669fd8",
   "metadata": {},
   "source": [
    "# PHYS 297 - Homework 3\n",
    "You can use these buttons below to launch this Jupyter notebook in either binder or Colab.\n",
    "\n",
    "[![Open in Binder](https://mybinder.org/badge_logo.svg)](http://beta.mybinder.org/v2/gh/mgrau/phys297/main?urlpath=%2Ftree/Homework%203.ipynb)\n",
    "\n",
    "[![Open In Colab](https://colab.research.google.com/assets/colab-badge.svg)](https://colab.research.google.com/github/mgrau/phys297/blob/main/Homework%203.ipynb)"
   ]
  },
  {
   "cell_type": "markdown",
   "id": "6fa5bd8f",
   "metadata": {},
   "source": [
    "# Problem 1 - analyzing lists of data\n",
    "Below is some experimental data stored as a Python list called `data`. This is from an experimental than I ran repeatedly. At the end of each experiment, an atom could be in one of two different states, which we will call |↑⟩ and |↓⟩. When the atom is in state |↑⟩ it fluoresces and emits many photons (although the precise number is random from experiment to experiment). When the atom is in state |↓⟩ it does not emit photons, although the experimental apparatus will still register a few detections due to various sources of noise (so-called dark counts). Some fraction of the time the experiment just doesn't work at all, and returns an error. In this list I have encoded these results, with each element being either the number of photons detected, or `None` if the experiment yielded an error (note that detecting no photons is recorded as a `0`, and not `None`).\n",
    "\n",
    "1. How many experiments did I perform?\n",
    "2. What percentage of the experiments experienced an error?\n",
    "3. What is the average number of counts I recorded in the experiments that did not encounter an error (this is the `sum()` of the counts, divided by the number of experiments without an error).\n",
    "\n",
    "Let's try to distinguish between experiments in the |↑⟩ state and |↓⟩ state with a simple thresholding algorithm. This is where we will choose a threshold value and assume the atom was in the |↑⟩ state if we detect more counts than the threshold, and that it was in the |↓⟩ if we detect fewer counts than the threshold.\n",
    "1. What is the maximum number of counts in `data`? You may want to use the `max()` function.\n",
    "2. Write a `for` loop where you iterate from `0` to the maximum number of counts (for example, use `range(0, max_counts+1)`), and each iteration print out a line with the number of counts, and then print a string of '#' characters with length equal to the number of occurances of that count in `data`. For example, there were 5 experiments recorded in `data` with 3 counts. So you should print out the line:\n",
    "\n",
    "`3: #####`\n",
    "\n",
    "3. Use this printout to find a gap between the two populations of data, and use this value as your threshold. What is the value of your threshold?\n",
    "4. Using your threshold, what percentage of experiments (without error) was the atom in the |↑⟩ state? What percentage of experiments was the atom in the |↓⟩ state?\n",
    "\n",
    "**Hint: you may wish to filter out the experiments with an error using a list comprehension, using the test `if experiment_result is not None`**."
   ]
  },
  {
   "cell_type": "code",
   "execution_count": 1,
   "id": "4ecf16eb",
   "metadata": {
    "ExecuteTime": {
     "end_time": "2022-09-17T17:24:03.383874Z",
     "start_time": "2022-09-17T17:24:03.380974Z"
    }
   },
   "outputs": [],
   "source": [
    "data = [\n",
    "    2, 25, 3, 0, 18, 20, None, None, 19, 0,\n",
    "    0, 16, 23, 22, 2, 18, 1, 1, 23, 22,\n",
    "    23, 5, 1, 0, 0, 1, 19, None, 24, 13,\n",
    "    4, 1, 0, 1, 27, 3, 31, 22, 2, 0,\n",
    "    None, 6, 20, 2, 25, 18, 0, 1, 22, 2,\n",
    "    1, 2, 28, 1, 21, 3, 22, 4, 1, 7,\n",
    "    0, 1, 0, 14, 17, 15, 2, 17, 27, 0,\n",
    "    22, 4, 1, 0, 4, 5, 3, 1, 1, 1,\n",
    "    4, 2, 15, 17, 19, 25, 2, 1, 25, None,\n",
    "    2, 19, None, 1, 0, 21, 0, 2, 3, 18\n",
    "]"
   ]
  },
  {
   "cell_type": "markdown",
   "id": "f701e3e5",
   "metadata": {},
   "source": [
    "# Problem 2\n",
    "Below I have a list of dictionaries called `stars` containing data of the 15 brightest stars (excluding the sun) as seen from the earth.\n",
    "\n",
    "1. Use a `for` loop or a dictionary comprehension to create a new dictionary called `distance` that has the name of each star as a key, and the distance of the star from the earth in ly as the value. Use this dictionary to look up the distance of the star Betelgeuse (e.g., `distance['Betelgeuse']`).\n",
    "2. make a new list called `far_stars` containing only those stars in `stars` whose distance from the earth is greater than 100 ly.\n",
    "3. The measure 'magitude (mV)' is a logarithmic scale. Write a function to calculate brightness from magnitude called `brightness(magnitude)` according to the formula $\\text{brightness} = 10^{\\frac{\\text{magnitude}}{-2.5}}$.\n",
    "4. Use your function `brightness` to update the data in `stars` to include a new key in each element called 'brightness', calculated according to the function above\n",
    "5. Obviously the further from earth a star is, the dimmer it will appear. The decrease in a star's intensity is characterized by an inverse square law. Calculate the relative absolute brightness of each star by multiplying the brightness of each star by the distance to the earth squared. Make a dictionary called `absolute_brightness` containing the names of each star as keys, and the absolute brightness as values. Sort this dictionary in order of brightness (you can sort a dictionary `my_dict` by it's values by using `sorted(my_dict, key=my_dict.get))`."
   ]
  },
  {
   "cell_type": "code",
   "execution_count": 2,
   "id": "5e742417",
   "metadata": {
    "ExecuteTime": {
     "end_time": "2022-09-17T17:24:03.388409Z",
     "start_time": "2022-09-17T17:24:03.384833Z"
    }
   },
   "outputs": [],
   "source": [
    "stars = [\n",
    "  {\n",
    "    \"name\": \"Sirius\",\n",
    "    \"magnitude (mV)\": -1.46,\n",
    "    \"distance (ly)\": 8.6,\n",
    "  },\n",
    "  {\n",
    "    \"name\": \"Canopus\",\n",
    "    \"magnitude (mV)\": -0.74,\n",
    "    \"distance (ly)\": 310.0,\n",
    "  },\n",
    "  {\n",
    "    \"name\": \"Rigil Kentaurus & Toliman\",\n",
    "    \"magnitude (mV)\": -0.27,\n",
    "    \"distance (ly)\": 4.4,\n",
    "  },\n",
    "  {\n",
    "    \"name\": \"Arcturus\",\n",
    "    \"magnitude (mV)\": -0.05,\n",
    "    \"distance (ly)\": 37.0,\n",
    "  },\n",
    "  {\n",
    "    \"name\": \"Vega\",\n",
    "    \"magnitude (mV)\": 0.03,\n",
    "    \"distance (ly)\": 25.0,\n",
    "  },\n",
    "  {\n",
    "    \"name\": \"Capella\",\n",
    "    \"magnitude (mV)\": 0.08,\n",
    "    \"distance (ly)\": 43.0,\n",
    "  },\n",
    "  {\n",
    "    \"name\": \"Rigel\",\n",
    "    \"magnitude (mV)\": 0.13,\n",
    "    \"distance (ly)\": 860.0,\n",
    "  },\n",
    "  {\n",
    "    \"name\": \"Procyon\",\n",
    "    \"magnitude (mV)\": 0.34,\n",
    "    \"distance (ly)\": 11.0,\n",
    "  },\n",
    "  {\n",
    "    \"name\": \"Achernar\",\n",
    "    \"magnitude (mV)\": 0.46,\n",
    "    \"distance (ly)\": 139.0,\n",
    "  },\n",
    "  {\n",
    "    \"name\": \"Betelgeuse\",\n",
    "    \"magnitude (mV)\": 0.5,\n",
    "    \"distance (ly)\": 700.0,\n",
    "  },\n",
    "  {\n",
    "    \"name\": \"Hadar\",\n",
    "    \"magnitude (mV)\": 0.61,\n",
    "    \"distance (ly)\": 390.0,\n",
    "  },\n",
    "  {\n",
    "    \"name\": \"Altair\",\n",
    "    \"magnitude (mV)\": 0.76,\n",
    "    \"distance (ly)\": 17.0,\n",
    "  },\n",
    "  {\n",
    "    \"name\": \"Acrux\",\n",
    "    \"magnitude (mV)\": 0.76,\n",
    "    \"distance (ly)\": 320.0,\n",
    "  },\n",
    "  {\n",
    "    \"name\": \"Aldebaran\",\n",
    "    \"magnitude (mV)\": 0.86,\n",
    "    \"distance (ly)\": 65.0,\n",
    "  },\n",
    "  {\n",
    "    \"name\": \"Antares\",\n",
    "    \"magnitude (mV)\": 0.96,\n",
    "    \"distance (ly)\": 550.0,\n",
    "  }\n",
    "]"
   ]
  }
 ],
 "metadata": {
  "kernelspec": {
   "display_name": "Python 3 (ipykernel)",
   "language": "python",
   "name": "python3"
  },
  "language_info": {
   "codemirror_mode": {
    "name": "ipython",
    "version": 3
   },
   "file_extension": ".py",
   "mimetype": "text/x-python",
   "name": "python",
   "nbconvert_exporter": "python",
   "pygments_lexer": "ipython3",
   "version": "3.9.13"
  },
  "vscode": {
   "interpreter": {
    "hash": "e80af68df95a31e212cd009ac4ba18d1a695b62c5ba442f5a9e89f02be8b3cbc"
   }
  }
 },
 "nbformat": 4,
 "nbformat_minor": 5
}
