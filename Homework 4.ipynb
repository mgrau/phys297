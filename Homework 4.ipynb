{
 "cells": [
  {
   "cell_type": "markdown",
   "id": "2d669fd8",
   "metadata": {},
   "source": [
    "# PHYS 297 - Homework 4\n",
    "You can use these buttons below to launch this Jupyter notebook in either binder or Colab.\n",
    "\n",
    "[![Open in Binder](https://mybinder.org/badge_logo.svg)](http://beta.mybinder.org/v2/gh/mgrau/phys297/main?urlpath=%2Ftree/Homework%204.ipynb)\n",
    "\n",
    "[![Open In Colab](https://colab.research.google.com/assets/colab-badge.svg)](https://colab.research.google.com/github/mgrau/phys297/blob/main/Homework%204.ipynb)\n",
    "\n",
    "When submitting this assignment, please upload this Jupyter notebook, as well as your output files:\n",
    "- `stars_meters.json`\n",
    "- `astro.py`"
   ]
  },
  {
   "cell_type": "markdown",
   "id": "56b4278c",
   "metadata": {},
   "source": [
    "# Problem 1 - local imports\n",
    "1. create a python file called `astro.py` containing the following:\n",
    "- a variable `c` with the speed of light in meters per second\n",
    "- a variable `yr` with the number of seconds in a year (use a [Julian year](https://en.wikipedia.org/wiki/Julian_year_(astronomy)))\n",
    "- a function `lightyr_to_m(distance)` that takes a distance in light-years and returns a distance in meters.\n",
    "\n",
    "2. Import the function `lightyr_to_m` to your Jupyter notebook and use it to calculate the number of meters in one light-year."
   ]
  },
  {
   "cell_type": "markdown",
   "id": "9b6fce93",
   "metadata": {},
   "source": [
    "# Problem 2 - Python packages\n",
    "There are many interesting and useful python packages that have been written and are maintained by experts, and you can make the most of your time by reusing their code. Most packages are hosted on the [Python Package Index](https://pypi.org/). You can install these packages using the `pip install` command in your terminal. You can also invoke it directly from your Jupyter notebook by running `!pip install` once in a code cell.\n",
    "\n",
    "1. Install the Python package `emoji` (`pip install emoji`). Use it to add an emoji to a print statement (e.g. `print(emoji.emojize('Python is :thumbs_up:'))`)\n",
    "2. Install the `tqdm` package. You can use this to add progress bars to a loop that takes a particularly long time to finish. For example, below I have written a `for` loop that contains a `sleep` command that simply pauses Python for 100 ms to simulate a difficult calculation. Import the function `tqdm` from the module `tqdm` and use it to wrap the `range()` function (e.g., `tqdm.tqdm(range(100))`).\n",
    "3. Look on PyPI for a Python package that you think will be useful to you in the future (for research, or classes, or a personal project) and write the name and description of it."
   ]
  },
  {
   "cell_type": "code",
   "execution_count": 1,
   "id": "a459c849",
   "metadata": {
    "ExecuteTime": {
     "end_time": "2022-09-26T13:48:51.301061Z",
     "start_time": "2022-09-26T13:48:40.942946Z"
    }
   },
   "outputs": [],
   "source": [
    "import time\n",
    "\n",
    "for i in range(100):\n",
    "    # some difficult calculation\n",
    "    time.sleep(0.1)"
   ]
  },
  {
   "cell_type": "markdown",
   "id": "0e3f69da",
   "metadata": {},
   "source": [
    "# Problem 3 - reading and writing files\n",
    "I've attached a file containing the stars data from the previous problem set (`stars.json`).\n",
    "1. Use the Python built-in `json` library and `open()` to load the data from the file into a variable `stars`.\n",
    "2. Iterate through the dictionary `stars` and remove replace each entry for `distance (ly)` with `distance (m)`, which should be the distance converted from light-years to meters.\n",
    "3. Write this data to a new json file named `stars_meters.json`. Be sure to include this file with your assignment submission. Note, when you use `open()` to create the file, you will probably need to use `open('stars_meters.json', 'w+')`, where the `w+` means `w`rite to a file, and create it (`+`) if it doesn't exist."
   ]
  }
 ],
 "metadata": {
  "kernelspec": {
   "display_name": "Python 3 (ipykernel)",
   "language": "python",
   "name": "python3"
  },
  "language_info": {
   "codemirror_mode": {
    "name": "ipython",
    "version": 3
   },
   "file_extension": ".py",
   "mimetype": "text/x-python",
   "name": "python",
   "nbconvert_exporter": "python",
   "pygments_lexer": "ipython3",
   "version": "3.9.13"
  },
  "vscode": {
   "interpreter": {
    "hash": "e80af68df95a31e212cd009ac4ba18d1a695b62c5ba442f5a9e89f02be8b3cbc"
   }
  }
 },
 "nbformat": 4,
 "nbformat_minor": 5
}
