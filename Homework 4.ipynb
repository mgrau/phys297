{
 "cells": [
  {
   "attachments": {},
   "cell_type": "markdown",
   "id": "2d669fd8",
   "metadata": {},
   "source": [
    "# PHYS 297 - Homework 4\n",
    "You can use these buttons below to launch this Jupyter notebook in either binder or Colab.\n",
    "\n",
    "[![Open in Binder](https://mybinder.org/badge_logo.svg)](http://beta.mybinder.org/v2/gh/mgrau/phys297/spring2023?urlpath=%2Ftree/Homework%204.ipynb)\n",
    "\n",
    "[![Open In Colab](https://colab.research.google.com/assets/colab-badge.svg)](https://colab.research.google.com/github/mgrau/phys297/blob/spring2023/Homework%204.ipynb)"
   ]
  },
  {
   "attachments": {},
   "cell_type": "markdown",
   "id": "56b4278c",
   "metadata": {},
   "source": [
    "# Problem 1 - Numerical Integration with NumPy\n",
    "Numerically calculate the integral of the function $f(x) = x^3$ from $x_i=2$ to $x_f=4$ by approximating the integral as a Riemann Sum of the area of many rectangles.\n",
    "1. Import numpy using `import numpy as np`.\n",
    "2. Create a variable `N` for the number of rectangles in the sum.\n",
    "3. Use `np.linspace` to create a numpy array of values from $x=2$ to $x=4$ with `N` elements, and store it as a variable `x`.\n",
    "4. Define a variable for the width of each rectangle `dx`, equal to $(x_f-x_i)/N$.\n",
    "5. Calculate the area of each rectangle `area` using `dx * x`.\n",
    "6. Calculate the Riemann sum by taking the sum of the array `area` using `np.sum`.\n",
    "7. Calculate this sum for `N=100`, `N=100_000` and `N=100_000_000`"
   ]
  },
  {
   "attachments": {},
   "cell_type": "markdown",
   "id": "182ade26",
   "metadata": {},
   "source": [
    "# Problem 2 - Logical Indexing\n",
    "In this problem we will use logical indexing to estimate the value of $\\pi$, by calculating the area of a quarter circle.\n",
    "\n",
    "1. Use `np.random.rand` to generate `N=10_000` random points on the interval $x\\in[0,1)$. Assign this to variable `x`.\n",
    "2. Use `np.random.rand` to generate another `N=10_000` points and assign this array to variable `y`.\n",
    "3. Use `np.sqrt` to calculate an array `r` for the 10,000 random points, using $r = \\sqrt{x^2 + y^2}$.\n",
    "4. Use logical indexing to find the number of points that lie inside the unit circle $r<1$.\n",
    "5. Estimate the value of $\\pi$ by taking the fraction of points where $r<1$ and the multiplying by 4.\n"
   ]
  },
  {
   "cell_type": "markdown",
   "id": "eaa96b4c",
   "metadata": {},
   "source": []
  }
 ],
 "metadata": {
  "kernelspec": {
   "display_name": "Python 3 (ipykernel)",
   "language": "python",
   "name": "python3"
  },
  "language_info": {
   "codemirror_mode": {
    "name": "ipython",
    "version": 3
   },
   "file_extension": ".py",
   "mimetype": "text/x-python",
   "name": "python",
   "nbconvert_exporter": "python",
   "pygments_lexer": "ipython3",
   "version": "3.10.3 (main, Mar 22 2022, 09:37:07) [Clang 13.1.6 (clang-1316.0.21.2)]"
  },
  "vscode": {
   "interpreter": {
    "hash": "e80af68df95a31e212cd009ac4ba18d1a695b62c5ba442f5a9e89f02be8b3cbc"
   }
  }
 },
 "nbformat": 4,
 "nbformat_minor": 5
}
