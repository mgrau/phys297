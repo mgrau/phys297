{
 "cells": [
  {
   "attachments": {},
   "cell_type": "markdown",
   "id": "2d669fd8",
   "metadata": {},
   "source": [
    "# PHYS 297 - Homework 5\n",
    "You can use these buttons below to launch this Jupyter notebook in either binder or Colab.\n",
    "\n",
    "[![Open in Binder](https://mybinder.org/badge_logo.svg)](http://beta.mybinder.org/v2/gh/mgrau/phys297/spring2023?urlpath=%2Ftree/Homework%205.ipynb)\n",
    "\n",
    "[![Open In Colab](https://colab.research.google.com/assets/colab-badge.svg)](https://colab.research.google.com/github/mgrau/phys297/blob/spring2023/Homework%205.ipynb)"
   ]
  },
  {
   "cell_type": "markdown",
   "id": "e6fb535b",
   "metadata": {},
   "source": [
    "# Introduction\n",
    "In this homework we will just practice some of the plotting routines we went over in class. With the following data, plot `data` (laser power, in units of mW) vs. `t` (time, in units of minutes), with errorbars (using `plt.errorbar`) given by `err` (same units as `data`). Please label the axes (using `plt.xlabel` and `plt.ylabel`), as well as title the plot.\n",
    "\n",
    "Compare this data to the following two theory curves, `cos(t)` and `sin(t)` by plotting one on the same figure. Which is a better match? label the data and the two theory curves by giving them labels in the plotting functions and then calling `plt.legend()`."
   ]
  },
  {
   "cell_type": "code",
   "execution_count": 1,
   "id": "ff1086ca",
   "metadata": {
    "ExecuteTime": {
     "end_time": "2022-11-14T02:57:27.752201Z",
     "start_time": "2022-11-14T02:57:27.378870Z"
    }
   },
   "outputs": [],
   "source": [
    "import numpy as np\n",
    "import matplotlib.pyplot as plt"
   ]
  },
  {
   "cell_type": "code",
   "execution_count": 2,
   "id": "c56b3d23",
   "metadata": {
    "ExecuteTime": {
     "end_time": "2022-11-14T02:57:27.755737Z",
     "start_time": "2022-11-14T02:57:27.753050Z"
    }
   },
   "outputs": [],
   "source": [
    "t = np.array([  0.        ,  0.54166667,  1.08333333,  1.625     ,  2.16666667,\n",
    "                2.70833333,  3.25      ,  3.79166667,  4.33333333,  4.875     ,\n",
    "                5.41666667,  5.95833333,  6.5       ,  7.04166667,  7.58333333,\n",
    "                8.125     ,  8.66666667,  9.20833333,  9.75      , 10.29166667,\n",
    "               10.83333333, 11.375     , 11.91666667, 12.45833333, 13.        ])\n",
    "data = np.array([   0.08208928,  0.81520066,  1.0035057 ,  1.07447144,  0.81116769,\n",
    "                    0.3852632 , -0.59510685, -0.8536311 , -1.21324016, -1.0231292 ,\n",
    "                   -0.67100935, -0.71147739,  0.22866755,  0.62652876,  1.24135622,\n",
    "                    1.19748877,  0.92122921, -0.20518621, -0.15380789, -0.77839412,\n",
    "                   -1.04455848, -1.04075378, -0.13424596, -0.08885693,  0.52066484])\n",
    "err = np.array([   0.16552745, 0.18256807, 0.17727992, 0.13214514, 0.22254906,\n",
    "                   0.26027511, 0.18730164, 0.13924419, 0.2422356 , 0.06541932,\n",
    "                   0.15602491, 0.16164123, 0.21465226, 0.18187436, 0.16403476,\n",
    "                   0.22577054, 0.27918419, 0.25100626, 0.20600153, 0.1629029 ,\n",
    "                   0.06565864, 0.26030595, 0.23078654, 0.23074573, 0.14647112])"
   ]
  }
 ],
 "metadata": {
  "kernelspec": {
   "display_name": "Python 3 (ipykernel)",
   "language": "python",
   "name": "python3"
  },
  "language_info": {
   "codemirror_mode": {
    "name": "ipython",
    "version": 3
   },
   "file_extension": ".py",
   "mimetype": "text/x-python",
   "name": "python",
   "nbconvert_exporter": "python",
   "pygments_lexer": "ipython3",
   "version": "3.10.3 (main, Mar 22 2022, 09:37:07) [Clang 13.1.6 (clang-1316.0.21.2)]"
  },
  "vscode": {
   "interpreter": {
    "hash": "e80af68df95a31e212cd009ac4ba18d1a695b62c5ba442f5a9e89f02be8b3cbc"
   }
  }
 },
 "nbformat": 4,
 "nbformat_minor": 5
}
