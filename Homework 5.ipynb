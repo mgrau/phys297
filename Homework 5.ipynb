{
 "cells": [
  {
   "cell_type": "markdown",
   "id": "2d669fd8",
   "metadata": {},
   "source": [
    "# PHYS 297 - Homework 5\n",
    "You can use these buttons below to launch this Jupyter notebook in either binder or Colab.\n",
    "\n",
    "[![Open in Binder](https://mybinder.org/badge_logo.svg)](http://beta.mybinder.org/v2/gh/mgrau/phys297/main?urlpath=%2Ftree/Homework%205.ipynb)\n",
    "\n",
    "[![Open In Colab](https://colab.research.google.com/assets/colab-badge.svg)](https://colab.research.google.com/github/mgrau/phys297/blob/main/Homework%205.ipynb)"
   ]
  },
  {
   "cell_type": "markdown",
   "id": "9cd16c88",
   "metadata": {},
   "source": [
    "# Problem 1 - NumPy speed\n",
    "NumPy is considerably faster than 'pure' Python when performing many identical calculations, or when working with large blocks of data. Calculate the sum of the sine of the square of all of the positive integers from 1 to 100 million using both pure Python and Numpy, and remark on how long each calculation takes.\n",
    "$$\n",
    "\\sum_{n=1}^{100,000,000} n^2\n",
    "$$\n",
    "\n",
    "**Note: running this for 100 million integers took a reasonable time on my computer. If it's taking too long on yours, try 10 million or 1 million. Also, it might be a good idea to try the smaller calculation FIRST.**\n",
    "\n",
    "Hint: if you want to accurately time blocks of code, you can import the `time` module to get the timestamp before and after a calculation and take the difference. You can also use the `timeit` module to get the runtime of a function:"
   ]
  },
  {
   "cell_type": "code",
   "execution_count": 1,
   "id": "a3a1699f",
   "metadata": {
    "ExecuteTime": {
     "end_time": "2022-09-30T15:29:20.736929Z",
     "start_time": "2022-09-30T15:29:20.095084Z"
    }
   },
   "outputs": [
    {
     "name": "stdout",
     "output_type": "stream",
     "text": [
      "long_calculation() took 0.319s to run.\n",
      "long_calculation() took 0.318s to run 1 time.\n"
     ]
    }
   ],
   "source": [
    "import time\n",
    "def long_calculation():\n",
    "    time.sleep(.314)\n",
    "\n",
    "start_time = time.time()\n",
    "long_calculation()\n",
    "end_time = time.time()\n",
    "print(f'long_calculation() took {end_time-start_time:0.3g}s to run.')\n",
    "\n",
    "import timeit\n",
    "# IMPORTANT! note I pass the name of the function 'long_calculation', and NOT the\n",
    "# the parentheses, so I don't actually call the function (i.e., 'long_calculation()')\n",
    "run_time = timeit.timeit(long_calculation, number=1)\n",
    "print(f'long_calculation() took {run_time:0.3g}s to run 1 time.')"
   ]
  },
  {
   "cell_type": "markdown",
   "id": "1b0b313d",
   "metadata": {
    "ExecuteTime": {
     "end_time": "2022-09-30T14:38:08.700430Z",
     "start_time": "2022-09-30T14:38:08.694648Z"
    }
   },
   "source": [
    "# Problem 2 - Plotting in with Matplotlib\n",
    "1. Write a function `f(x)` that uses NumPy to perform the following calculation:\n",
    "$$\n",
    "f(x) = \\sin^2(10 x) e^{-\\frac{1}{2}x^2}\n",
    "$$\n",
    "2. Create a NumPy array called `x` that is contains 10,000 evenly spaced real numbers from -10 to +10 (inclusive)\n",
    "3. Create a Numpy array called `y` that is equal to `f(x)`.\n",
    "4. Plot `y` against `x`. Be sure you label your axes and title your figure!"
   ]
  },
  {
   "cell_type": "markdown",
   "id": "003db54d",
   "metadata": {},
   "source": [
    "# Problem 3 - Logical Indexing\n",
    "I've created a file with some sample data in it ('`ps5_data.csv`').\n",
    "1. Use `np.loadtxt` to load this file into a variable `data`. *Note: this file contains a header row, and is entries are separated by a comma (a common format called comma separated values, or csv). You will need to specify a number of rows to skip using `skiprows`, as well as a character to use as the delimiter.*\n",
    "2. Assign each column to a variable and plot them against each other, with time on the horizontal axis. Be sure to label your axes with proper units (the units are noted in the first line of the file).\n",
    "3. Use logical indexing to find the time and voltage of all data events where the voltage was more than 10mV (*Hint: what units is voltage in?*)\n",
    "4. How many events are there with a voltage of more than 10mV? What is their average voltage?\n",
    "5. On the same figure as the rest of the data, plot a small circle for each event. Use `label` to add a label for each plot element and use `plt.legend` to create a legend for your figure."
   ]
  },
  {
   "cell_type": "markdown",
   "id": "66f81de3",
   "metadata": {},
   "source": [
    "# Problem 4 - Matrices\n",
    "Use NumPy to represent the following matrices as a $2 \\times 2$ array:\n",
    "$$\n",
    "\\sigma_x = \\left(\\begin{matrix}0&1\\\\1&0\\end{matrix}\\right),\n",
    "\\sigma_y = \\left(\\begin{matrix}0&-i\\\\i&0\\end{matrix}\\right),\n",
    "\\sigma_z = \\left(\\begin{matrix}1&0\\\\0&-1\\end{matrix}\\right).\n",
    "$$\n",
    "These are known as the *Pauli matrices*, and are a fundamentally useful object for describing spins in quantum mechanics.\n",
    "\n",
    "1. Calculate the square of each matrix, and show that it is equal to the identity matrix,\n",
    "$$I = \\left(\\begin{matrix}1&0\\\\0&1\\end{matrix}\\right)$$\n",
    "(*Hint*: make sure to use the matrix-multiply operator `@`, and not the normal multiplication operator `*`, which will result in multiply each corresponding element of the matrices. Similarly, using the exponentiation operator `**` to square the matrix will actually square each *element*).\n",
    "2. Show that the matrices satisfy the following commutation relations:\n",
    "$$\\sigma_x \\sigma_y - \\sigma_y \\sigma_x = 2 i \\sigma_z$$\n",
    "$$\\sigma_y \\sigma_z - \\sigma_z \\sigma_y = 2 i \\sigma_x$$\n",
    "$$\\sigma_z \\sigma_x - \\sigma_x \\sigma_z = 2 i \\sigma_y$$"
   ]
  }
 ],
 "metadata": {
  "kernelspec": {
   "display_name": "Python 3 (ipykernel)",
   "language": "python",
   "name": "python3"
  },
  "language_info": {
   "codemirror_mode": {
    "name": "ipython",
    "version": 3
   },
   "file_extension": ".py",
   "mimetype": "text/x-python",
   "name": "python",
   "nbconvert_exporter": "python",
   "pygments_lexer": "ipython3",
   "version": "3.9.13"
  },
  "vscode": {
   "interpreter": {
    "hash": "e80af68df95a31e212cd009ac4ba18d1a695b62c5ba442f5a9e89f02be8b3cbc"
   }
  }
 },
 "nbformat": 4,
 "nbformat_minor": 5
}
