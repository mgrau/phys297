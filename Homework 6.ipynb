{
 "cells": [
  {
   "cell_type": "markdown",
   "id": "2d669fd8",
   "metadata": {},
   "source": [
    "# PHYS 297 - Homework 6\n",
    "You can use these buttons below to launch this Jupyter notebook in either binder or Colab.\n",
    "\n",
    "[![Open in Binder](https://mybinder.org/badge_logo.svg)](http://beta.mybinder.org/v2/gh/mgrau/phys297/main?urlpath=%2Ftree/Homework%206.ipynb)\n",
    "\n",
    "[![Open In Colab](https://colab.research.google.com/assets/colab-badge.svg)](https://colab.research.google.com/github/mgrau/phys297/blob/main/Homework%206.ipynb)"
   ]
  },
  {
   "cell_type": "markdown",
   "id": "31d208fd",
   "metadata": {},
   "source": [
    "# Problem 1 - Propagation of Uncertainty\n",
    "\n",
    "## Propagation of uncertainty of sums and differences\n",
    "The uncertainty $\\sigma_y$ on a sum $y = a+b$ or difference $y = a-b$ is:\n",
    "$$\n",
    "\\sigma_y^2 = \\sigma_a^2 + \\sigma_b^2\n",
    "$$\n",
    "## Propagation of uncertainty of products and ratios\n",
    "The uncertainty $\\sigma_y$ on a product $y = a \\times b$ or ratio $y = a/b$ is the same:\n",
    "$$\n",
    "\\left(\\frac{\\sigma_y}{y}\\right)^2 = \\left(\\frac{\\sigma_a}{a}\\right)^2 + \\left(\\frac{\\sigma_b}{b}\\right)^2\n",
    "$$\n",
    "As an example, consider the quantity $a = 125.7 \\pm 0.2 \\text{miles}$ and $b = 2.82 \\pm 0.03 \\text{hours}$. The ratio $y = a/b = 44.57 \\text{miles/hour}$ has an uncertainty $\\sigma_y$ that is\n",
    "$$\n",
    "\\sigma_y = \\left(44.57 \\text{miles/hours} \\right) \\times \\sqrt{\\left(\\frac{0.2}{125.7}\\right)^2 + \\left(\\frac{0.03}{2.82}\\right)^2} = \n",
    "\\left(44.57 \\text{miles/hours} \\right) (0.0081) = 0.48 \\text{miles/hour},\n",
    "$$\n",
    "The ratio is thus $y = 44.6 \\pm 0.5 \\text{miles/hour}$.\n",
    "## General propagation of uncertainty\n",
    "The general way to propagate uncertainty if you operate on some quantity $x$ with uncertainty $\\sigma_x$ with the function $f(x)$ is\n",
    "$$\\sigma_{f(x)}^2 = \\left| \\frac{df}{dx}\\right|^2 \\sigma_x^2$$\n",
    "So for example, if $x = 12.27 \\pm 0.06 \\text{meters}$, then the uncertainty on $x$ is $\\sigma_x = 0.06 \\text{meters}$. If we want to calculate the uncertainty of, for example, $x^2 = (12.27 \\text{m})^2 = 150.5529 \\text{m}^2$, it is:\n",
    "$$\n",
    "\\sigma_{x^2}^2 = \\left| 2 x \\right|^2 (0.06 \\text{m})^2 = ( 2 \\times 12.27 \\text{m} )^2 (0.06 \\text{m})^2 = 2.168 \\text{m}^4\n",
    "$$\n",
    "$$\n",
    "\\sigma_{x^2} = 1.472 \\text{m}^2\n",
    "$$\n",
    "So the uncertainty on $x^2$ is $\\sigma_\\text{x^2} = 1.5 \\text{m^2}$, or $x^2 = 150.6 \\pm 1.5 \\text{m}^2$.\n",
    "\n",
    "## Problems\n",
    "Calculate the following quantities using the propagation of uncertainty formulas above. Remember proper units!\n",
    "1. $(38\\pm 1 \\text{cm}) \\times  (152 \\pm 1 \\text{cm}) \\times (335 \\pm 1 \\text{cm})$\n",
    "2. $(0.529 \\pm 0.001 \\text{nm}) / (566.7 \\pm {0.3} \\text{fs})$\n",
    "3. $\\sqrt{(115\\pm2 \\text{N/m}) / (2.2\\pm1 \\text{kg})}$\n",
    "4. $(5.5\\pm 1 \\text{s}) - (0.30\\pm0.05 \\text{s})$"
   ]
  },
  {
   "cell_type": "markdown",
   "id": "9dde04b9",
   "metadata": {},
   "source": [
    "# Problem 2 - Python Uncertainties\n",
    "There is a very handy Python package that can assist you in calculating uncertainties on quantities. It is called, unsurprisingly `uncertainties`. Install it with `pip install uncertainties` the same as you installed other packages in previous homeworks.\n",
    "\n",
    "The way it works if you can import the object `ufloat` from `uncertainties` which allows you to define quantities as a pair of numbers, a nominal value and an uncertainty. For example, the length $L = 5.0 \\pm 0.1 \\text{m}$ could be represented as `L = ufloat(5.0, 0.1)`. You can then perform operations on ufloat quantities and the `uncertainties` package will automatically calculate the uncertainties for you. See the example below"
   ]
  },
  {
   "cell_type": "code",
   "execution_count": 24,
   "id": "815b4dbb",
   "metadata": {
    "ExecuteTime": {
     "end_time": "2022-10-24T04:35:50.603948Z",
     "start_time": "2022-10-24T04:35:50.596728Z"
    }
   },
   "outputs": [
    {
     "name": "stdout",
     "output_type": "stream",
     "text": [
      "L - d = 1.30+/-0.32 m\n",
      "d^2 = 13.7+/-2.2 m^2\n",
      "L/t = 2.94+/-0.35 m/s\n"
     ]
    }
   ],
   "source": [
    "# !pip install uncertainties\n",
    "\n",
    "from uncertainties import ufloat\n",
    "\n",
    "L = ufloat(5.0, 0.1) # L = 5.0 ± 0.1 m\n",
    "t = ufloat(1.7, 0.2) # t = 1.7 ± 0.2 s\n",
    "d = ufloat(3.7, 0.3) # d = 3.7 ± 0.3 m\n",
    "print(f'L - d = {L-d} m')\n",
    "print(f'd^2 = {d**2} m^2')\n",
    "print(f'L/t = {L/t} m/s')"
   ]
  },
  {
   "cell_type": "markdown",
   "id": "b852f68c",
   "metadata": {},
   "source": [
    "## Problem\n",
    "Calculate the uncertainties of the four quantities from the previous section using the `uncertainties` package. Copmare your results."
   ]
  },
  {
   "cell_type": "markdown",
   "id": "4e875983",
   "metadata": {},
   "source": [
    "mass = $7.70 \\pm 0.05$ g \\\n",
    "T = 3.5 N \\\n",
    "L = 149.9 cm \\\n",
    "stretch by 19.7 cm \\\n",
    "$\\text{L}_\\text{stretched} = 169.9$ cm.\n",
    "\n",
    "$$\n",
    "v = \\sqrt{\\frac{T}{\\mu}}\n",
    "$$\n",
    "\n",
    "$$\n",
    "v = f \\lambda\n",
    "$$\n",
    "\n",
    "Given our data, what level of agreement do we expect?\n",
    "\n",
    "## Standing Waves\n",
    "\n",
    "If the wave velocity $v$, then the traveling wave could be of the form:\n",
    "$$\n",
    "A \\sin(kx - \\omega t)\n",
    "$$\n",
    "or\n",
    "$$\n",
    "A \\sin(kx + \\omega t)\n",
    "$$\n",
    "$\\frac{\\omega}{k} = v$, $\\omega = 2 \\pi f$, $k = \\frac{2\\pi}{\\lambda}$.\n",
    "\n",
    "Why do we get resonances? There is a boundary condition that $f(x,t) = 0$ at the ends, each end is tied down, $f(0,t) = 0$, and $f(L,t)=0$.\n",
    "$$\n",
    "f(x,t) = A \\sin(kx - \\omega t) + B \\sin(kx + \\omega t)\n",
    "$$\n",
    "Applying our boundary conditions, then\n",
    "$$\n",
    "f(0,t) = A \\sin( - \\omega t) + B \\sin(+ \\omega t) = 0\n",
    "$$\n",
    "this is true if $B = A$.\n",
    "\n",
    "The other boundary condition\n",
    "$$\n",
    "f(x,t) = A \\left( \\sin(kx - \\omega t) + \\sin(kx + \\omega t) \\right)\n",
    "$$\n",
    "$$\n",
    "= A \\left( \\sin(kx) \\cos(-\\omega t) + \\cos(kx)\\sin(-\\omega t) + \\sin(kx) \\cos(\\omega t) + \\cos(kx ) \\sin(\\omega t)\\right)\n",
    "$$\n",
    "$$\n",
    "= 2 A \\sin(kx) \\cos(\\omega t)\n",
    "$$\n",
    "\n",
    "$$\n",
    "f(x,t) = A \\sin(kx) \\cos(\\omega t)\n",
    "$$\n",
    "When $f(L,t)=0 \\implies kL = n \\pi$, $k_n = n \\pi/L$, where $L$ is the distance between two anchor points.\n",
    "\n",
    "## Data\n",
    "$T = 3.5 \\text{N}$ \\\n",
    "$M = 7.70 \\pm 0.05 \\text{g}$ = $0.00770 \\pm 0.00005 \\text{kg}$\\\n",
    "$\\mu = M/L = 0.0077 \\text{kg}$ \\\n",
    "$L_\\text{total} = 1.696 \\text{m}$\n",
    "\n",
    "## Propagation of errors\n",
    "\n",
    "What is the uncertainty in the calculated value of $v$?\n",
    "$$v = \\sqrt{\\frac{T}{\\mu}}$$\n",
    "Given errors $\\delta_T$ and $\\delta_\\mu$, what is the uncertainty in the velocity, $\\delta_v$?"
   ]
  },
  {
   "cell_type": "markdown",
   "id": "9cd16c88",
   "metadata": {},
   "source": [
    "# Problem 1 - NumPy speed\n",
    "NumPy is considerably faster than 'pure' Python when performing many identical calculations, or when working with large blocks of data. Calculate the sum of the sine of the square of all of the positive integers from 1 to 100 million using both pure Python and Numpy, and remark on how long each calculation takes.\n",
    "$$\n",
    "\\sum_{n=1}^{100,000,000} n^2\n",
    "$$\n",
    "\n",
    "**Note: running this for 100 million integers took a reasonable time on my computer. If it's taking too long on yours, try 10 million or 1 million. Also, it might be a good idea to try the smaller calculation FIRST.**\n",
    "\n",
    "Hint: if you want to accurately time blocks of code, you can import the `time` module to get the timestamp before and after a calculation and take the difference. You can also use the `timeit` module to get the runtime of a function:"
   ]
  },
  {
   "cell_type": "code",
   "execution_count": 1,
   "id": "a3a1699f",
   "metadata": {
    "ExecuteTime": {
     "end_time": "2022-09-30T15:29:20.736929Z",
     "start_time": "2022-09-30T15:29:20.095084Z"
    }
   },
   "outputs": [
    {
     "name": "stdout",
     "output_type": "stream",
     "text": [
      "long_calculation() took 0.319s to run.\n",
      "long_calculation() took 0.318s to run 1 time.\n"
     ]
    }
   ],
   "source": [
    "import time\n",
    "def long_calculation():\n",
    "    time.sleep(.314)\n",
    "\n",
    "start_time = time.time()\n",
    "long_calculation()\n",
    "end_time = time.time()\n",
    "print(f'long_calculation() took {end_time-start_time:0.3g}s to run.')\n",
    "\n",
    "import timeit\n",
    "# IMPORTANT! note I pass the name of the function 'long_calculation', and NOT the\n",
    "# the parentheses, so I don't actually call the function (i.e., 'long_calculation()')\n",
    "run_time = timeit.timeit(long_calculation, number=1)\n",
    "print(f'long_calculation() took {run_time:0.3g}s to run 1 time.')"
   ]
  },
  {
   "cell_type": "markdown",
   "id": "1b0b313d",
   "metadata": {
    "ExecuteTime": {
     "end_time": "2022-09-30T14:38:08.700430Z",
     "start_time": "2022-09-30T14:38:08.694648Z"
    }
   },
   "source": [
    "# Problem 2 - Plotting in with Matplotlib\n",
    "1. Write a function `f(x)` that uses NumPy to perform the following calculation:\n",
    "$$\n",
    "f(x) = \\sin^2(10 x) e^{-\\frac{1}{2}x^2}\n",
    "$$\n",
    "2. Create a NumPy array called `x` that is contains 10,000 evenly spaced real numbers from -10 to +10 (inclusive)\n",
    "3. Create a Numpy array called `y` that is equal to `f(x)`.\n",
    "4. Plot `y` against `x`. Be sure you label your axes and title your figure!"
   ]
  },
  {
   "cell_type": "markdown",
   "id": "003db54d",
   "metadata": {},
   "source": [
    "# Problem 3 - Logical Indexing\n",
    "I've created a file with some sample data in it ('`ps5_data.csv`').\n",
    "1. Use `np.loadtxt` to load this file into a variable `data`. *Note: this file contains a header row, and is entries are separated by a comma (a common format called comma separated values, or csv). You will need to specify a number of rows to skip using `skiprows`, as well as a character to use as the delimiter.*\n",
    "2. Assign each column to a variable and plot them against each other, with time on the horizontal axis. Be sure to label your axes with proper units (the units are noted in the first line of the file).\n",
    "3. Use logical indexing to find the time and voltage of all data events where the voltage was more than 10mV (*Hint: what units is voltage in?*)\n",
    "4. How many events are there with a voltage of more than 10mV? What is their average voltage?\n",
    "5. On the same figure as the rest of the data, plot a small circle for each event. Use `label` to add a label for each plot element and use `plt.legend` to create a legend for your figure."
   ]
  },
  {
   "cell_type": "markdown",
   "id": "66f81de3",
   "metadata": {},
   "source": [
    "# Problem 4 - Matrices\n",
    "Use NumPy to represent the following matrices as a $2 \\times 2$ array:\n",
    "$$\n",
    "\\sigma_x = \\left(\\begin{matrix}0&1\\\\1&0\\end{matrix}\\right),\n",
    "\\sigma_y = \\left(\\begin{matrix}0&-i\\\\i&0\\end{matrix}\\right),\n",
    "\\sigma_z = \\left(\\begin{matrix}1&0\\\\0&-1\\end{matrix}\\right).\n",
    "$$\n",
    "These are known as the *Pauli matrices*, and are a fundamentally useful object for describing spins in quantum mechanics.\n",
    "\n",
    "1. Calculate the square of each matrix, and show that it is equal to the identity matrix,\n",
    "$$I = \\left(\\begin{matrix}1&0\\\\0&1\\end{matrix}\\right)$$\n",
    "(*Hint*: make sure to use the matrix-multiply operator `@`, and not the normal multiplication operator `*`, which will result in multiply each corresponding element of the matrices. Similarly, using the exponentiation operator `**` to square the matrix will actually square each *element*).\n",
    "2. Show that the matrices satisfy the following commutation relations:\n",
    "$$\\sigma_x \\sigma_y - \\sigma_y \\sigma_x = 2 i \\sigma_z$$\n",
    "$$\\sigma_y \\sigma_z - \\sigma_z \\sigma_y = 2 i \\sigma_x$$\n",
    "$$\\sigma_z \\sigma_x - \\sigma_x \\sigma_z = 2 i \\sigma_y$$"
   ]
  }
 ],
 "metadata": {
  "kernelspec": {
   "display_name": "Python 3 (ipykernel)",
   "language": "python",
   "name": "python3"
  },
  "language_info": {
   "codemirror_mode": {
    "name": "ipython",
    "version": 3
   },
   "file_extension": ".py",
   "mimetype": "text/x-python",
   "name": "python",
   "nbconvert_exporter": "python",
   "pygments_lexer": "ipython3",
   "version": "3.10.7"
  },
  "vscode": {
   "interpreter": {
    "hash": "e80af68df95a31e212cd009ac4ba18d1a695b62c5ba442f5a9e89f02be8b3cbc"
   }
  }
 },
 "nbformat": 4,
 "nbformat_minor": 5
}
