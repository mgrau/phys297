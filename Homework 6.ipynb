{
 "cells": [
  {
   "cell_type": "markdown",
   "id": "2d669fd8",
   "metadata": {},
   "source": [
    "# PHYS 297 - Homework 6\n",
    "You can use these buttons below to launch this Jupyter notebook in either binder or Colab.\n",
    "\n",
    "[![Open in Binder](https://mybinder.org/badge_logo.svg)](http://beta.mybinder.org/v2/gh/mgrau/phys297/main?urlpath=%2Ftree/Homework%206.ipynb)\n",
    "\n",
    "[![Open In Colab](https://colab.research.google.com/assets/colab-badge.svg)](https://colab.research.google.com/github/mgrau/phys297/blob/main/Homework%206.ipynb)"
   ]
  },
  {
   "cell_type": "markdown",
   "id": "31d208fd",
   "metadata": {},
   "source": [
    "# Problem 1 - Propagation of Uncertainty\n",
    "\n",
    "## Propagation of uncertainty of sums and differences\n",
    "The uncertainty $\\sigma_y$ on a sum $y = a+b$ or difference $y = a-b$ is:\n",
    "$$\n",
    "\\sigma_y^2 = \\sigma_a^2 + \\sigma_b^2\n",
    "$$\n",
    "## Propagation of uncertainty of products and ratios\n",
    "The uncertainty $\\sigma_y$ on a product $y = a \\times b$ or ratio $y = a/b$ is the same:\n",
    "$$\n",
    "\\left(\\frac{\\sigma_y}{y}\\right)^2 = \\left(\\frac{\\sigma_a}{a}\\right)^2 + \\left(\\frac{\\sigma_b}{b}\\right)^2\n",
    "$$\n",
    "As an example, consider the quantity $a = 125.7 \\pm 0.2 \\text{miles}$ and $b = 2.82 \\pm 0.03 \\text{hours}$. The ratio $y = a/b = 44.57 \\text{miles/hour}$ has an uncertainty $\\sigma_y$ that is\n",
    "$$\n",
    "\\sigma_y = \\left(44.57 \\text{miles/hours} \\right) \\times \\sqrt{\\left(\\frac{0.2}{125.7}\\right)^2 + \\left(\\frac{0.03}{2.82}\\right)^2} = \n",
    "\\left(44.57 \\text{miles/hours} \\right) (0.0081) = 0.48 \\text{miles/hour},\n",
    "$$\n",
    "The ratio is thus $y = 44.6 \\pm 0.5 \\text{miles/hour}$.\n",
    "## General propagation of uncertainty\n",
    "The general way to propagate uncertainty if you operate on some quantity $x$ with uncertainty $\\sigma_x$ with the function $f(x)$ is\n",
    "$$\\sigma_{f(x)}^2 = \\left| \\frac{df}{dx}\\right|^2 \\sigma_x^2$$\n",
    "So for example, if $x = 12.27 \\pm 0.06 \\text{meters}$, then the uncertainty on $x$ is $\\sigma_x = 0.06 \\text{meters}$. If we want to calculate the uncertainty of, for example, $x^2 = (12.27 \\text{m})^2 = 150.5529 \\text{m}^2$, it is:\n",
    "$$\n",
    "\\sigma_{x^2}^2 = \\left| 2 x \\right|^2 (0.06 \\text{m})^2 = ( 2 \\times 12.27 \\text{m} )^2 (0.06 \\text{m})^2 = 2.168 \\text{m}^4\n",
    "$$\n",
    "$$\n",
    "\\sigma_{x^2} = 1.472 \\text{m}^2\n",
    "$$\n",
    "So the uncertainty on $x^2$ is $\\sigma_\\text{x^2} = 1.5 \\text{m^2}$, or $x^2 = 150.6 \\pm 1.5 \\text{m}^2$.\n",
    "\n",
    "## Problems\n",
    "Calculate the following quantities using the propagation of uncertainty formulas above. Remember proper units!\n",
    "1. $(38\\pm 1 \\text{cm}) \\times  (152 \\pm 1 \\text{cm}) \\times (335 \\pm 1 \\text{cm})$\n",
    "2. $(0.529 \\pm 0.001 \\text{nm}) / (566.7 \\pm {0.3} \\text{fs})$\n",
    "3. $\\sqrt{(115\\pm2 \\text{N/m}) / (2.2\\pm1 \\text{kg})}$\n",
    "4. $(5.5\\pm 1 \\text{s}) - (0.30\\pm0.05 \\text{s})$"
   ]
  },
  {
   "cell_type": "markdown",
   "id": "9dde04b9",
   "metadata": {},
   "source": [
    "# Problem 2 - Python Uncertainties\n",
    "There is a very handy Python package that can assist you in calculating uncertainties on quantities. It is called, unsurprisingly `uncertainties`. Install it with `pip install uncertainties` the same as you installed other packages in previous homeworks.\n",
    "\n",
    "The way it works if you can import the object `ufloat` from `uncertainties` which allows you to define quantities as a pair of numbers, a nominal value and an uncertainty. For example, the length $L = 5.0 \\pm 0.1 \\text{m}$ could be represented as `L = ufloat(5.0, 0.1)`. You can then perform operations on ufloat quantities and the `uncertainties` package will automatically calculate the uncertainties for you. See the example below"
   ]
  },
  {
   "cell_type": "code",
   "execution_count": 1,
   "id": "815b4dbb",
   "metadata": {
    "ExecuteTime": {
     "end_time": "2022-10-24T04:40:39.130838Z",
     "start_time": "2022-10-24T04:40:39.059205Z"
    }
   },
   "outputs": [
    {
     "name": "stdout",
     "output_type": "stream",
     "text": [
      "L - d = 1.30+/-0.32 m\n",
      "d^2 = 13.7+/-2.2 m^2\n",
      "L/t = 2.94+/-0.35 m/s\n"
     ]
    }
   ],
   "source": [
    "# !pip install uncertainties\n",
    "\n",
    "from uncertainties import ufloat\n",
    "\n",
    "L = ufloat(5.0, 0.1) # L = 5.0 ± 0.1 m\n",
    "t = ufloat(1.7, 0.2) # t = 1.7 ± 0.2 s\n",
    "d = ufloat(3.7, 0.3) # d = 3.7 ± 0.3 m\n",
    "print(f'L - d = {L-d} m')\n",
    "print(f'd^2 = {d**2} m^2')\n",
    "print(f'L/t = {L/t} m/s')"
   ]
  },
  {
   "cell_type": "markdown",
   "id": "b852f68c",
   "metadata": {},
   "source": [
    "## Problem\n",
    "Calculate the uncertainties of the four quantities from the previous section using the `uncertainties` package. Copmare your results."
   ]
  }
 ],
 "metadata": {
  "kernelspec": {
   "display_name": "Python 3 (ipykernel)",
   "language": "python",
   "name": "python3"
  },
  "language_info": {
   "codemirror_mode": {
    "name": "ipython",
    "version": 3
   },
   "file_extension": ".py",
   "mimetype": "text/x-python",
   "name": "python",
   "nbconvert_exporter": "python",
   "pygments_lexer": "ipython3",
   "version": "3.10.7"
  },
  "vscode": {
   "interpreter": {
    "hash": "e80af68df95a31e212cd009ac4ba18d1a695b62c5ba442f5a9e89f02be8b3cbc"
   }
  }
 },
 "nbformat": 4,
 "nbformat_minor": 5
}
