{
 "cells": [
  {
   "cell_type": "markdown",
   "id": "2d669fd8",
   "metadata": {},
   "source": [
    "# PHYS 297 - Homework 9\n",
    "You can use these buttons below to launch this Jupyter notebook in either binder or Colab.\n",
    "\n",
    "[![Open in Binder](https://mybinder.org/badge_logo.svg)](http://beta.mybinder.org/v2/gh/mgrau/phys297/main?urlpath=%2Ftree/Homework%209.ipynb)\n",
    "\n",
    "[![Open In Colab](https://colab.research.google.com/assets/colab-badge.svg)](https://colab.research.google.com/github/mgrau/phys297/blob/main/Homework%209.ipynb)"
   ]
  },
  {
   "cell_type": "markdown",
   "id": "e6fb535b",
   "metadata": {},
   "source": [
    "# Introduction\n",
    "In this homework we are going to explore some statistics using simulated data. Since we are using simulated data, we will be able to also explore the scenario of repeating an entire experiment and getting entirely different answers"
   ]
  },
  {
   "cell_type": "code",
   "execution_count": 1,
   "id": "ff1086ca",
   "metadata": {
    "ExecuteTime": {
     "end_time": "2022-11-05T20:26:49.547127Z",
     "start_time": "2022-11-05T20:26:49.193999Z"
    }
   },
   "outputs": [],
   "source": [
    "import numpy as np\n",
    "import matplotlib.pyplot as plt"
   ]
  },
  {
   "cell_type": "markdown",
   "id": "98e94b66",
   "metadata": {},
   "source": [
    "The function `simulate_events` simulates collecting data for 10ms with a resolution of 1ns, where the probability of at least one event occuring during any 1 ns is $p=0.00013$. An event could be a radioactive decay, or detecting a photon emitted from an atom. This function returns an array of times when events occured, in units of seconds."
   ]
  },
  {
   "cell_type": "code",
   "execution_count": 2,
   "id": "eed1e5e5",
   "metadata": {
    "ExecuteTime": {
     "end_time": "2022-11-05T20:26:49.609545Z",
     "start_time": "2022-11-05T20:26:49.548013Z"
    }
   },
   "outputs": [],
   "source": [
    "def simulate_events(p=0.00013):\n",
    "    t = np.arange(0,10e-3,1e-9)\n",
    "    events = np.random.rand(t.size)<p\n",
    "    return t[events]\n",
    "\n",
    "data = simulate_events()"
   ]
  },
  {
   "cell_type": "markdown",
   "id": "b79ee16c",
   "metadata": {},
   "source": [
    "# Problem 1 - Exponential Distribution\n",
    "1. Calculate the *time between events* by taking the different of each of the times in `data` (using `np.diff()`). Store this as the variable `t_decay`.\n",
    "2. Plot a histogram of the time between events using `plt.hist()`. To make it look nice, use 20 bins (`plt.hist(x, bins=20)`). This a an approximation of the probability distribution of the decay times. Looking at this, what is the most probably time between events?\n",
    "3. Calculate the average time between events, also know as the *expected time* between events using `np.mean`. Where does this fall on the histogram? Take the inverse of this time to calculate the probability to decay per second. Multiply by $10^9$ to get the probability to decay per ns. Compare this to the true value.\n",
    "4. The average time between events is only your best guess of the true average decay time (1 ns/0.00013). Calculate the uncertainty on your estimate by calculating the standard error, using the following formula:\n",
    "$$\n",
    "\\sigma_\\text{err} = \\sigma/\\sqrt{N}\n",
    "$$\n",
    "where $\\sigma$ is the standard deviation (calculate this using `np.std(t_decay)`), and $N$ is the number of events (`len(t_decay)`). Use this to report your average decay time in the following way: $\\mu \\pm \\sigma_\\text{err}$. How many $\\sigma_\\text{err}$ does your measured value of the average time differ from the true average time?"
   ]
  },
  {
   "cell_type": "markdown",
   "id": "045ba1cb",
   "metadata": {},
   "source": [
    "# Problem 2 - The Central Limit Theorem\n",
    "No one escapes the central limit theorem. Roughly, it says that if we have some statistic that is the sum or average of many independent random numbers, then that statistic can be described by a normal distribution. As an example of this, we will repeat the experiment from Problem 1 many times. I'll write some code to do this for you. It may take a minute to run."
   ]
  },
  {
   "cell_type": "code",
   "execution_count": 3,
   "id": "8b2eaa97",
   "metadata": {
    "ExecuteTime": {
     "end_time": "2022-11-05T20:27:42.619342Z",
     "start_time": "2022-11-05T20:26:49.611238Z"
    }
   },
   "outputs": [],
   "source": [
    "repeated_data = [np.mean(np.diff(simulate_events())) for i in range(1000)]"
   ]
  },
  {
   "cell_type": "markdown",
   "id": "c35f737d",
   "metadata": {},
   "source": [
    "1. The variable `repeated_data` is the average time between events for 1000 different experiments. Plot this as a histogram. Where did your measured value fall in this histogram?\n",
    "2. Calculate the standard deviation of `repeated_data`. How does it compare to the standard error in the previous problem?\n",
    "3. If we increase the probability for an event to occur, there will be more events. How do you think this will affect the standard error of a measurement? Run the code below to see! Plot this as a histogram and calculate the standard deviation, and compare to the results for `repeated_data`."
   ]
  },
  {
   "cell_type": "code",
   "execution_count": 4,
   "id": "321ab1f3",
   "metadata": {
    "ExecuteTime": {
     "end_time": "2022-11-05T20:28:38.112998Z",
     "start_time": "2022-11-05T20:27:42.622500Z"
    }
   },
   "outputs": [],
   "source": [
    "repeated_data2 = [np.mean(np.diff(simulate_events(p=1e-3))) for i in range(1000)]"
   ]
  }
 ],
 "metadata": {
  "kernelspec": {
   "display_name": "Python 3 (ipykernel)",
   "language": "python",
   "name": "python3"
  },
  "language_info": {
   "codemirror_mode": {
    "name": "ipython",
    "version": 3
   },
   "file_extension": ".py",
   "mimetype": "text/x-python",
   "name": "python",
   "nbconvert_exporter": "python",
   "pygments_lexer": "ipython3",
   "version": "3.10.7"
  },
  "vscode": {
   "interpreter": {
    "hash": "e80af68df95a31e212cd009ac4ba18d1a695b62c5ba442f5a9e89f02be8b3cbc"
   }
  }
 },
 "nbformat": 4,
 "nbformat_minor": 5
}
